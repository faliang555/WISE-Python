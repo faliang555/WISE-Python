{
 "cells": [
  {
   "cell_type": "markdown",
   "metadata": {},
   "source": [
    "# Langevin Dynamics\n",
    "\n",
    "## Goals \n",
    "\n",
    "* Consider a mix of directed and undirected motion\n",
    "* Study the interplay between mass, friction and random force\n"
   ]
  },
  {
   "cell_type": "markdown",
   "metadata": {},
   "source": [
    "*To start learning about modeling collective phenomena, e.g. how atoms and molecules move around, we'll need to put these two concepts together!*\n",
    "\n",
    "[Langevin dynamics](https://en.wikipedia.org/wiki/Langevin_dynamics) describes motion that is both directed and diffusive:\n",
    "\n",
    "\\begin{equation}\n",
    "m\\overrightarrow{a} = - \\nabla U(\\overrightarrow{x}) - \\gamma m \\overrightarrow{v} + \\sqrt{2 \\gamma k_B T m} \\overrightarrow{R}(t),\n",
    "\\end{equation}\n",
    "\n",
    "where $m$ is the mass, $\\overrightarrow{a}$ is the acceleration, $\\overrightarrow{v}$ is the velocity, $\\overrightarrow{x}$ is the position, $\\nabla U(\\overrightarrow{x})$ is the gradient of the potential energy (let's not worry about that for now), $\\gamma$ is the friction coefficient, $k_BT$ is the thermal energy, and $\\overrightarrow{R}(t)$ is a random force that kicks the particles around. \n",
    "\n",
    "So how do we use this to run trajectories?  First, let's remember our equations from kinematics (take a look back if this is all a bit hazy...):\n",
    "\n",
    "\\begin{equation} \\overrightarrow{x}(t+\\Delta t) \\approx \\overrightarrow{x}(t) + \\overrightarrow{v}(t) \\Delta t, \\end{equation}\n",
    "\n",
    "\\begin{equation} \\overrightarrow{v}(t+\\Delta t) \\approx \\overrightarrow{v}(t) + \\overrightarrow{a}(t) \\Delta t. \\end{equation}\n",
    "\n",
    "Then we'll plug in the Langevin equation to the velocity update equation:\n",
    "\n",
    "\\begin{equation} \\overrightarrow{v}(t+\\Delta t) \\approx \\overrightarrow{v}(t) + \\Delta t \\left(- \\frac{1}{m}\\nabla U(\\overrightarrow{x}) - \\gamma \\overrightarrow{v} + \\sqrt{\\frac{2 \\gamma k_B T}{m} } \\overrightarrow{R}(t) \\right). \\end{equation}\n",
    "\n",
    "OK, let's jump right in here!"
   ]
  },
  {
   "cell_type": "code",
   "execution_count": 14,
   "metadata": {
    "collapsed": true
   },
   "outputs": [],
   "source": [
    "import numpy as np\n",
    "np.random.seed(3)\n",
    "\n",
    "# define our constants\n",
    "m = 1      # the mass of our particle \n",
    "kT = 1     # thermal energy\n",
    "gamma = 1  # friction coefficient\n",
    "dt = 0.01  # time step\n",
    "N = 10000  # number of time steps\n",
    "save_int = 10  # how often to save the position\n",
    "pref = (2*gamma*kT/m)**(0.5)   # prefactor for random force\n",
    "                               # (only compute once and store)\n",
    "\n",
    "x0 = np.array([0,0])  # initial position\n",
    "v0 = np.array([1,1])  # initial velocity\n",
    "\n",
    "# functions for updating system coordinates\n",
    "def updatepos(xold,vold):\n",
    "    # returns the new positions, using the old positions and the old velocities\n",
    "    xnew = xold + vold*dt\n",
    "    return xnew\n",
    "\n",
    "def updatevel(xold,vold):\n",
    "    # returns the new velocities, given the old acceleration\n",
    "    # which is the sum of the external forces, a drag term, and a random force\n",
    "    vnew = vold + dt*(-force(xold)/m - gamma*vold + pref*rfunc())\n",
    "    return vnew\n",
    "    \n",
    "def force(xold):\n",
    "    # let's forget about this for now and return an array of zeros\n",
    "    f0 = np.array([0,0])\n",
    "    return f0\n",
    "\n",
    "def rfunc():\n",
    "    # return a vector with components chosen from a Gaussian distribution\n",
    "    r = np.random.normal(size=2)\n",
    "    return r\n",
    "\n",
    "# ----------------------------------\n",
    "#    simulation starts here\n",
    "# ----------------------------------\n",
    "\n",
    "x = x0\n",
    "v = v0\n",
    "traj = x\n",
    "\n",
    "for step in range(N):\n",
    "    # update position and velocities\n",
    "    xn = updatepos(x,v)\n",
    "    vn = updatevel(x,v)\n",
    "\n",
    "    # shift new values into main arrays\n",
    "    x,v = xn,vn\n",
    "\n",
    "    # save the position every save_int steps\n",
    "    if step % save_int == 0:\n",
    "        traj = np.row_stack((traj,x))"
   ]
  },
  {
   "cell_type": "code",
   "execution_count": 15,
   "metadata": {},
   "outputs": [
    {
     "data": {
      "image/png": "[encoded data removed]",
      "text/plain": [
       "<matplotlib.figure.Figure at 0x112e7db70>"
      ]
     },
     "metadata": {},
     "output_type": "display_data"
    }
   ],
   "source": [
    "import matplotlib.pyplot as plt\n",
    "% matplotlib inline\n",
    "\n",
    "# make gradient color array\n",
    "color=np.array(range(0,int(N/save_int)+1),dtype='float')\n",
    "# scatter plot with gradient color\n",
    "plt.scatter(traj.T[0],traj.T[1],c=color,edgecolors='none')\n",
    "# render\n",
    "plt.show()"
   ]
  },
  {
   "cell_type": "markdown",
   "metadata": {},
   "source": [
    "Very cool!  We used color to plot out the time of the trajectory (blue = starting position, red = final position)."
   ]
  },
  {
   "cell_type": "markdown",
   "metadata": {},
   "source": [
    "***\n",
    "### Now let's play around with this a bit and see what these parameters do!\n",
    "**Question 1a):** What would happen if you increased the mass?  Before you run a simulation, look at the equation and estimate."
   ]
  },
  {
   "cell_type": "markdown",
   "metadata": {},
   "source": [
    "The particle moves slower. In the same time period, the range it can reach is smaller."
   ]
  },
  {
   "cell_type": "markdown",
   "metadata": {},
   "source": [
    "**Question 1b):** To test this hypothesis, plot a trajectory with the mass increased by a factor of 10, and another with the mass decreased by a factor of 10. (Here we simply copy the two code blocks above and change the relevant parameter, such as mass. You can do the same in the questions that follow.)"
   ]
  },
  {
   "cell_type": "code",
   "execution_count": 16,
   "metadata": {
    "collapsed": true
   },
   "outputs": [],
   "source": [
    "import numpy as np\n",
    "\n",
    "# define our constants\n",
    "m = 10     # the mass of our particle \n",
    "kT = 1     # thermal energy\n",
    "gamma = 1  # friction coefficient\n",
    "dt = 0.01  # time step\n",
    "N = 10000  # number of time steps\n",
    "save_int = 10  # how often to save the position\n",
    "pref = (2*gamma*kT/m)**(0.5)   # prefactor for random force\n",
    "                               # (only compute once and store)\n",
    "\n",
    "x0 = np.array([0,0])  # initial position\n",
    "v0 = np.array([1,1])  # initial velocity\n",
    "\n",
    "# functions for updating system coordinates\n",
    "def updatepos(xold,vold):\n",
    "    # returns the new positions, using the old positions and the old velocities\n",
    "    xnew = xold + vold*dt\n",
    "    return xnew\n",
    "\n",
    "def updatevel(xold,vold):\n",
    "    # returns the new velocities, given the old acceleration\n",
    "    # which is the sum of the external forces, a drag term, and a random force\n",
    "    vnew = vold + dt*(-force(xold)/m - gamma*vold + pref*rfunc())\n",
    "    return vnew\n",
    "    \n",
    "def force(xold):\n",
    "    # let's forget about this for now and return an array of zeros\n",
    "    f0 = np.array([0,0])\n",
    "    return f0\n",
    "\n",
    "def rfunc():\n",
    "    # return a vector with components chosen from a Gaussian distribution\n",
    "    r = np.random.normal(size=2)\n",
    "    return r\n",
    "\n",
    "# ----------------------------------\n",
    "#    simulation starts here\n",
    "# ----------------------------------\n",
    "\n",
    "x = x0\n",
    "v = v0\n",
    "traj = x\n",
    "\n",
    "for step in range(N):\n",
    "    # update position and velocities\n",
    "    xn = updatepos(x,v)\n",
    "    vn = updatevel(x,v)\n",
    "\n",
    "    # shift new values into main arrays\n",
    "    x,v = xn,vn\n",
    "\n",
    "    # save the position every save_int steps\n",
    "    if step % save_int == 0:\n",
    "        traj = np.row_stack((traj,x))"
   ]
  },
  {
   "cell_type": "code",
   "execution_count": 17,
   "metadata": {},
   "outputs": [
    {
     "data": {
      "image/png": "[encoded data removed]",
      "text/plain": [
       "<matplotlib.figure.Figure at 0x10fb38320>"
      ]
     },
     "metadata": {},
     "output_type": "display_data"
    }
   ],
   "source": [
    "import matplotlib.pyplot as plt\n",
    "% matplotlib inline\n",
    "\n",
    "# make gradient color array\n",
    "color=np.array(range(0,int(N/save_int)+1),dtype='float')\n",
    "# scatter plot with gradient color\n",
    "plt.scatter(traj.T[0],traj.T[1],c=color,edgecolors='none')\n",
    "# render\n",
    "plt.show()"
   ]
  },
  {
   "cell_type": "markdown",
   "metadata": {},
   "source": [
    "**Question 2a):**  What parameter would we have to change to make the motion purely inertial (i.e. like there are no forces at all), like in our kinematics example?"
   ]
  },
  {
   "cell_type": "markdown",
   "metadata": {},
   "source": [
    "Change prefactor for random force to 0."
   ]
  },
  {
   "cell_type": "markdown",
   "metadata": {},
   "source": [
    "**Question 2b):** Try it out, see if it works!"
   ]
  },
  {
   "cell_type": "code",
   "execution_count": 18,
   "metadata": {
    "collapsed": true
   },
   "outputs": [],
   "source": [
    "import numpy as np\n",
    "\n",
    "# define our constants\n",
    "m = 10     # the mass of our particle \n",
    "kT = 1     # thermal energy\n",
    "gamma = 1  # friction coefficient\n",
    "dt = 0.01  # time step\n",
    "N = 10000  # number of time steps\n",
    "save_int = 10  # how often to save the position\n",
    "pref = 0   # prefactor for random force\n",
    "                               # (only compute once and store)\n",
    "\n",
    "x0 = np.array([0,0])  # initial position\n",
    "v0 = np.array([1,1])  # initial velocity\n",
    "\n",
    "# functions for updating system coordinates\n",
    "def updatepos(xold,vold):\n",
    "    # returns the new positions, using the old positions and the old velocities\n",
    "    xnew = xold + vold*dt\n",
    "    return xnew\n",
    "\n",
    "def updatevel(xold,vold):\n",
    "    # returns the new velocities, given the old acceleration\n",
    "    # which is the sum of the external forces, a drag term, and a random force\n",
    "    vnew = vold + dt*(-force(xold)/m - gamma*vold + pref*rfunc())\n",
    "    return vnew\n",
    "    \n",
    "def force(xold):\n",
    "    # let's forget about this for now and return an array of zeros\n",
    "    f0 = np.array([0,0])\n",
    "    return f0\n",
    "\n",
    "def rfunc():\n",
    "    # return a vector with components chosen from a Gaussian distribution\n",
    "    r = np.random.normal(size=2)\n",
    "    return r\n",
    "\n",
    "# ----------------------------------\n",
    "#    simulation starts here\n",
    "# ----------------------------------\n",
    "\n",
    "x = x0\n",
    "v = v0\n",
    "traj = x\n",
    "\n",
    "for step in range(N):\n",
    "    # update position and velocities\n",
    "    xn = updatepos(x,v)\n",
    "    vn = updatevel(x,v)\n",
    "\n",
    "    # shift new values into main arrays\n",
    "    x,v = xn,vn\n",
    "\n",
    "    # save the position every save_int steps\n",
    "    if step % save_int == 0:\n",
    "        traj = np.row_stack((traj,x))"
   ]
  },
  {
   "cell_type": "code",
   "execution_count": 19,
   "metadata": {},
   "outputs": [
    {
     "data": {
      "image/png": "[encoded data removed]",
      "text/plain": [
       "<matplotlib.figure.Figure at 0x112f936a0>"
      ]
     },
     "metadata": {},
     "output_type": "display_data"
    }
   ],
   "source": [
    "import matplotlib.pyplot as plt\n",
    "% matplotlib inline\n",
    "\n",
    "# make gradient color array\n",
    "color=np.array(range(0,int(N/save_int)+1),dtype='float')\n",
    "# scatter plot with gradient color\n",
    "plt.scatter(traj.T[0],traj.T[1],c=color,edgecolors='none')\n",
    "# render\n",
    "plt.show()"
   ]
  },
  {
   "cell_type": "markdown",
   "metadata": {},
   "source": [
    "**Question 3a):** How could you change the parameters to make this particle look more like a random walk? (I.e. to make sure it very quickly \"forgets\" its velocity?)"
   ]
  },
  {
   "cell_type": "markdown",
   "metadata": {},
   "source": [
    "change the vold to zero in updatevel function"
   ]
  },
  {
   "cell_type": "markdown",
   "metadata": {},
   "source": [
    "**Question 3b):** Try it out with an initial velocity of (10,10), see what it looks like!"
   ]
  },
  {
   "cell_type": "code",
   "execution_count": 31,
   "metadata": {},
   "outputs": [],
   "source": [
    "# code here\n",
    "import numpy as np\n",
    "\n",
    "# define our constants\n",
    "m = 10     # the mass of our particle \n",
    "kT = 1     # thermal energy\n",
    "gamma = 1  # friction coefficient\n",
    "dt = 0.01  # time step\n",
    "N = 10000  # number of time steps\n",
    "save_int = 10  # how often to save the position\n",
    "pref = (2*gamma*kT/m)**(0.5)   # prefactor for random force\n",
    "                               # (only compute once and store)\n",
    "\n",
    "x0 = np.array([0,0])  # initial position\n",
    "v0 = np.array([1,1])  # initial velocity\n",
    "\n",
    "# functions for updating system coordinates\n",
    "def updatepos(xold,vold):\n",
    "    # returns the new positions, using the old positions and the old velocities\n",
    "    xnew = xold + vold*dt\n",
    "    return xnew\n",
    "\n",
    "def updatevel(xold,vold=0):\n",
    "    # returns the new velocities, given the old acceleration\n",
    "    # which is the sum of the external forces, a drag term, and a random force\n",
    "    vnew = vold + dt*(-force(xold)/m - gamma*vold + pref*rfunc())\n",
    "    return vnew\n",
    "    \n",
    "def force(xold):\n",
    "    # let's forget about this for now and return an array of zeros\n",
    "    f0 = np.array([0,0])\n",
    "    return f0\n",
    "\n",
    "def rfunc():\n",
    "    # return a vector with components chosen from a Gaussian distribution\n",
    "    r = np.random.normal(size=2)\n",
    "    return r\n",
    "\n",
    "# ----------------------------------\n",
    "#    simulation starts here\n",
    "# ----------------------------------\n",
    "\n",
    "x = x0\n",
    "v = v0\n",
    "traj = x\n",
    "\n",
    "for step in range(N):\n",
    "    # update position and velocities\n",
    "    xn = updatepos(x,v)\n",
    "    vn = updatevel(x,v)\n",
    "\n",
    "    # shift new values into main arrays\n",
    "    x,v = xn,vn\n",
    "\n",
    "    # save the position every save_int steps\n",
    "    if step % save_int == 0:\n",
    "        traj = np.row_stack((traj,x))"
   ]
  },
  {
   "cell_type": "code",
   "execution_count": 32,
   "metadata": {},
   "outputs": [
    {
     "data": {
      "image/png": "[encoded data removed]",
      "text/plain": [
       "<matplotlib.figure.Figure at 0x11329b828>"
      ]
     },
     "metadata": {},
     "output_type": "display_data"
    }
   ],
   "source": [
    "import matplotlib.pyplot as plt\n",
    "% matplotlib inline\n",
    "\n",
    "# make gradient color array\n",
    "color=np.array(range(0,int(N/save_int)+1),dtype='float')\n",
    "# scatter plot with gradient color\n",
    "plt.scatter(traj.T[0],traj.T[1],c=color,edgecolors='none')\n",
    "# render\n",
    "plt.show()"
   ]
  },
  {
   "cell_type": "markdown",
   "metadata": {},
   "source": [
    "**Question 4a):** Write a function called `pbc_check` that implements periodic boundary conditions (i.e. if you go out the right side, you'll come back in on the left, and if you go out the top side you'll come in on the bottom, etc.).  Restrict the particle to a box of side-length 1."
   ]
  },
  {
   "cell_type": "code",
   "execution_count": 11,
   "metadata": {},
   "outputs": [],
   "source": [
    "# code here\n",
    "def pbc_check(x):\n",
    "    if x[0]>1:\n",
    "        x[0] -= 1\n",
    "    elif x[0] < 0:\n",
    "        x[0] += 1\n",
    "    if x[1]>1:\n",
    "        x[1] -= 1\n",
    "    elif x[1] < 0:\n",
    "        x[1] += 1"
   ]
  },
  {
   "cell_type": "markdown",
   "metadata": {},
   "source": [
    "**Question 4b):** Run another trajectory, this time calling `pbc_check` after every update."
   ]
  },
  {
   "cell_type": "code",
   "execution_count": 12,
   "metadata": {
    "collapsed": true
   },
   "outputs": [],
   "source": [
    "# code here\n",
    "import numpy as np\n",
    "\n",
    "# define our constants\n",
    "m = 10     # the mass of our particle \n",
    "kT = 1     # thermal energy\n",
    "gamma = 1  # friction coefficient\n",
    "dt = 0.01  # time step\n",
    "N = 10000  # number of time steps\n",
    "save_int = 10  # how often to save the position\n",
    "pref = (2*gamma*kT/m)**(0.5)   # prefactor for random force\n",
    "                               # (only compute once and store)\n",
    "\n",
    "x0 = np.array([0,0])  # initial position\n",
    "v0 = np.array([1,1])  # initial velocity\n",
    "\n",
    "# functions for updating system coordinates\n",
    "def updatepos(xold,vold):\n",
    "    # returns the new positions, using the old positions and the old velocities\n",
    "    xnew = xold + vold*dt\n",
    "    return xnew\n",
    "\n",
    "def updatevel(xold,vold):\n",
    "    # returns the new velocities, given the old acceleration\n",
    "    # which is the sum of the external forces, a drag term, and a random force\n",
    "    vnew = vold + dt*(-force(xold)/m - gamma*vold + pref*rfunc())\n",
    "    return vnew\n",
    "    \n",
    "def force(xold):\n",
    "    # let's forget about this for now and return an array of zeros\n",
    "    f0 = np.array([0,0])\n",
    "    return f0\n",
    "\n",
    "def rfunc():\n",
    "    # return a vector with components chosen from a Gaussian distribution\n",
    "    r = np.random.normal(size=2)\n",
    "    return r\n",
    "\n",
    "# ----------------------------------\n",
    "#    simulation starts here\n",
    "# ----------------------------------\n",
    "\n",
    "x = x0\n",
    "v = v0\n",
    "traj = x\n",
    "\n",
    "for step in range(N):\n",
    "    # update position and velocities\n",
    "    xn = updatepos(x,v)\n",
    "    vn = updatevel(x,v)\n",
    "    \n",
    "    pbc_check(xn)\n",
    "\n",
    "    # shift new values into main arrays\n",
    "    x,v = xn,vn\n",
    "\n",
    "    # save the position every save_int steps\n",
    "    if step % save_int == 0:\n",
    "        traj = np.row_stack((traj,x))"
   ]
  },
  {
   "cell_type": "code",
   "execution_count": 13,
   "metadata": {},
   "outputs": [
    {
     "data": {
      "image/png": "[encoded data removed]",
      "text/plain": [
       "<matplotlib.figure.Figure at 0x112f74da0>"
      ]
     },
     "metadata": {},
     "output_type": "display_data"
    }
   ],
   "source": [
    "import matplotlib.pyplot as plt\n",
    "% matplotlib inline\n",
    "\n",
    "# make gradient color array\n",
    "color=np.array(range(0,int(N/save_int)+1),dtype='float')\n",
    "# scatter plot with gradient color\n",
    "plt.scatter(traj.T[0],traj.T[1],c=color,edgecolors='none')\n",
    "# render\n",
    "plt.show()"
   ]
  },
  {
   "cell_type": "markdown",
   "metadata": {},
   "source": [
    "---\n",
    "## Congratulations, you are done!\n",
    "---"
   ]
  }
 ],
 "metadata": {
  "anaconda-cloud": {},
  "kernelspec": {
   "display_name": "Python 3 (ipykernel)",
   "language": "python",
   "name": "python3"
  },
  "language_info": {
   "codemirror_mode": {
    "name": "ipython",
    "version": 3
   },
   "file_extension": ".py",
   "mimetype": "text/x-python",
   "name": "python",
   "nbconvert_exporter": "python",
   "pygments_lexer": "ipython3",
   "version": "3.9.7"
  }
 },
 "nbformat": 4,
 "nbformat_minor": 1
}
