{
 "cells": [
  {
   "cell_type": "markdown",
   "metadata": {},
   "source": [
    "# Artificial intelligence\n",
    "\n",
    "\n",
    "* \\[...\\] within a generation \\[...\\] the problem of creating *artificial intelligence* will substantially be solved. (c) Marvin Minsky, mid-1960s\n",
    "* How will you understand that AI achieved its goals?\n",
    "* **Superintelligence: Paths, Dangers, Strategies** by *Nick Bostrom*\n",
    "\n",
    "<img src=\"1.jpg\" alt=\"drawing\" width=\"200\"/>\n",
    "\n",
    "## Areas that are traditionally associated with AI\n",
    "* Reasoning\n",
    "* NLP\n",
    "* Computer vision\n",
    "* Robotics\n",
    "\n",
    "### Reasoning\n",
    "\n",
    "Not a challenge for a human. But how to encode reasoning into a computer?\n",
    "\n",
    "* Logic\n",
    "* Machine learning\n",
    "* Result of extracting knowledge from the world is **ontologies** that show relations among events, companies, people, etc.\n",
    "<img src=\"2.png\" alt=\"drawing\" width=\"500\"/>\n",
    "\n",
    "### Natural Language Processing\n",
    "\n",
    "#### Dialogue simulation\n",
    "**Project:** SwankBot, a bot that has a knowledge base and is capable of giving random answers and even trying to be emotional.\n",
    "\n",
    "#### Text generation\n",
    "**Project:** based on an extract from Harry Potter, we will generate new sentences.\n",
    "\n",
    "#### Speech generation\n",
    "How to make computers actually speak? For example, [eSpeak](http://espeak.sourceforge.net/commands.html)."
   ]
  },
  {
   "cell_type": "code",
   "execution_count": 5,
   "metadata": {},
   "outputs": [
    {
     "data": {
      "text/plain": [
       "0"
      ]
     },
     "execution_count": 5,
     "metadata": {},
     "output_type": "execute_result"
    }
   ],
   "source": [
    "import os\n",
    "os.system(\"espeak 'lol'\")"
   ]
  },
  {
   "cell_type": "markdown",
   "metadata": {},
   "source": [
    "#### Machine translation\n",
    "**Project(?):** transducer-based machine translation.\n",
    "\n",
    "### Computer vision\n",
    "<img src=\"3.jpg\" alt=\"drawing\" width=\"500\"/>\n",
    "\n",
    "**One of the mian tasks:**\n",
    "* How not to bump in the walls?\n",
    "* How to recognize faces and emotions?\n",
    "\n",
    "If you are interested in working on computer vision with Python, check out [this link](http://www.paulvangent.com/2016/08/05/emotion-recognition-using-facial-landmarks/).\n",
    "\n",
    "\n",
    "### Robotics\n",
    "Sophia was the first robot that was awarded citizenship. She is a [citizen of Saudi Arabia](https://www.youtube.com/watch?v=sKrV2CVDXjo)!\n",
    "\n",
    "<img src=\"4.png\" alt=\"drawing\" width=\"400\"/>\n",
    "\n"
   ]
  },
  {
   "cell_type": "markdown",
   "metadata": {},
   "source": [
    " "
   ]
  },
  {
   "cell_type": "markdown",
   "metadata": {},
   "source": [
    "And of course, there are plenty of intersections of the areas listed above. For example:\n",
    "* Image-based question answering systems\n",
    "* Facial emotions imitation\n",
    "* Reasoning performed by a robot"
   ]
  }
 ],
 "metadata": {
  "kernelspec": {
   "display_name": "Python 3",
   "language": "python",
   "name": "python3"
  },
  "language_info": {
   "codemirror_mode": {
    "name": "ipython",
    "version": 3
   },
   "file_extension": ".py",
   "mimetype": "text/x-python",
   "name": "python",
   "nbconvert_exporter": "python",
   "pygments_lexer": "ipython3",
   "version": "3.7.3"
  }
 },
 "nbformat": 4,
 "nbformat_minor": 2
}
