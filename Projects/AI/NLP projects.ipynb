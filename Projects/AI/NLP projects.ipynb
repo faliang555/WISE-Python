{
 "cells": [
  {
   "cell_type": "markdown",
   "metadata": {},
   "source": [
    "All of these projects are open-ended, meaning that it's you who is deciding what exactly to do -- I will only give you some of the guidelines on what to aim for.\n",
    "\n",
    "\n",
    "\n",
    "## Project 1: SwankBot\n",
    "\n",
    "In this project, you need to create a chatbot that has a small knowledge database that allows it to show off its knowledge, randomizes answers that it is giving to the user, and emotionally reacts to certain things.\n",
    "\n",
    "#### Task 1: knowledge database \n",
    "Here, we will need to create a knowledge database that the chatbot will rely on. We will start by creating the empty dictionary."
   ]
  },
  {
   "cell_type": "code",
   "execution_count": null,
   "metadata": {},
   "outputs": [],
   "source": [
    "knowledge = {}"
   ]
  },
  {
   "cell_type": "markdown",
   "metadata": {},
   "source": [
    "Ask the user to tell us some facts. When receiving the facts, don't forget to save them!\n",
    "\n",
    "* Chatbot: `Continue a sentence: a dog...`\n",
    "* User: `is nice to play with`\n",
    "\n",
    "Now, you can save the following item into your dictionary: `\"dog\":[\"is nice to play with\"]`\n",
    "\n",
    "We can start asking a user for the input about certain topics of your choice. You can create a list of topics you care about, and ask user to give you several facts about those topics. Make sure that in the end, every entry of your database looks somehow like that:\n",
    "\n",
    "`\"dog\":[\"is nice to play with\", \"belongs to a canine family\"]`"
   ]
  },
  {
   "cell_type": "code",
   "execution_count": null,
   "metadata": {},
   "outputs": [],
   "source": []
  },
  {
   "cell_type": "markdown",
   "metadata": {},
   "source": [
    "**Task 2: show off your knowledge**\n",
    "\n",
    "Study the `random.choice` function [here](https://docs.python.org/3/library/random.html). Write a code that is capable of using it. For example, ask user for an input, and if you know something about the things they told you about, mention a random fact about it!\n",
    "\n",
    "* *User:* `I have a dog!`\n",
    "* *Chatbot:* `Did you know that a dog belongs to a canine family?`"
   ]
  },
  {
   "cell_type": "code",
   "execution_count": null,
   "metadata": {},
   "outputs": [],
   "source": [
    "from random import choice"
   ]
  },
  {
   "cell_type": "markdown",
   "metadata": {},
   "source": [
    "** Task 3: get emotional**\n",
    "\n",
    "Remember the sentiment analysis task we did together a couple of days ago? Retrieve (or re-write) the code that is capable of detecting the emotion of the user input (if any), and react to it with a phrase of your choice. Remember, that that phrase can be randomly selected as well!\n",
    "\n",
    "* *User:* `I am sad today. My dog doesn't want to play with me.`\n",
    "* *Chatbot:* `Oh :(`\n",
    "* *Chatbot:* `By the way, did you know that a dog belongs to a canine family?`\n",
    "\n",
    "For now, write a function that asks user for input, and reacts to it in some way."
   ]
  },
  {
   "cell_type": "code",
   "execution_count": null,
   "metadata": {},
   "outputs": [],
   "source": []
  },
  {
   "cell_type": "markdown",
   "metadata": {},
   "source": [
    "#### Task 4: putting it all together\n",
    "\n",
    "Now create a full chatbot that is capable of talking to a user, reacting to their respondes, providing any facts if our chatbot has anything to say, and also getting emotional sometimes! Also, think of a name to give to your chatbot so that it can introducte iteself. :)\n",
    "\n",
    "Repeat the function that you defined in the cell above until the user will want to stop the conversation."
   ]
  },
  {
   "cell_type": "code",
   "execution_count": null,
   "metadata": {},
   "outputs": [],
   "source": []
  },
  {
   "cell_type": "markdown",
   "metadata": {},
   "source": [
    "# Project 2: text generation\n",
    "\n",
    "Here, we will generate sentences based on the ngrams from Harry Potter and see if they make sense."
   ]
  },
  {
   "cell_type": "markdown",
   "metadata": {},
   "source": [
    "Create a function `bigramize` that takes a list of words as input and returns the list with bigrams found in this list. For example:\n",
    "* Input: \\[today, is, a, nice, day\\]\n",
    "* Output: \\[\\[today, is\\], \\[is, a\\], \\[a, nice\\], \\[nice, day\\]\\]\n",
    "\n",
    "If this is too easy, write a function `ngramize` that does the same thing not only for bigrams, but for any ngrams."
   ]
  },
  {
   "cell_type": "code",
   "execution_count": null,
   "metadata": {},
   "outputs": [],
   "source": []
  },
  {
   "cell_type": "markdown",
   "metadata": {},
   "source": [
    "In the same folder as this notebook, you can find a file with an extract from Harry Potter: `hp.txt`. Load this file and print the first two lines from it."
   ]
  },
  {
   "cell_type": "code",
   "execution_count": null,
   "metadata": {},
   "outputs": [],
   "source": []
  },
  {
   "cell_type": "markdown",
   "metadata": {},
   "source": [
    "Now we need to write a function `tokenize` that creates a list of words based on the sentence. What it should do:\n",
    "* Remove all the punctuations from the sentence except the dot.\n",
    "* Remove the capitalization (we want \"Apple\" to be treated in the same way as \"apple\") using the `str.lower()` function.\n",
    "* Split the sentence -- pay attention to the final dot! It needs to be a separate \"word\".\n",
    "* Return the result.\n",
    "\n",
    "\n",
    "* Input: `Tomorrow, it will be nice.`\n",
    "* Output: `\\[tomorrow, it, will, be, nice, .\\]`"
   ]
  },
  {
   "cell_type": "code",
   "execution_count": null,
   "metadata": {},
   "outputs": [],
   "source": []
  },
  {
   "cell_type": "markdown",
   "metadata": {},
   "source": [
    "Now, let's prepare a list in which we will put all ngrams that we can extract from the Harry Potter."
   ]
  },
  {
   "cell_type": "code",
   "execution_count": null,
   "metadata": {},
   "outputs": [],
   "source": [
    "ngrams = []"
   ]
  },
  {
   "cell_type": "markdown",
   "metadata": {},
   "source": [
    "Let's read the `hp.txt` line by line, and every line we will first tokenize, and then ngramize. Every time you observe a new ngram, save it in the list of `ngrams`."
   ]
  },
  {
   "cell_type": "code",
   "execution_count": null,
   "metadata": {},
   "outputs": [],
   "source": []
  },
  {
   "cell_type": "markdown",
   "metadata": {},
   "source": [
    "Now you should have a list of ngrams that are ready to help us to generate something interesting! Let's print some of them. For example, print first 10 ngrams that you collected from the text."
   ]
  },
  {
   "cell_type": "code",
   "execution_count": null,
   "metadata": {},
   "outputs": [],
   "source": []
  },
  {
   "cell_type": "markdown",
   "metadata": {},
   "source": [
    "Write a function `generate` that takes a list of ngrams as input, and produces a sentence. How to do it:\n",
    "\n",
    "1. Pick a word that you are going to start your sentence with. You can either provide it as an argument to your function, or pick it randomly from the first words that are found in the ngrams.\n",
    "2. Now, create a list of possible continuations of that word.\n",
    "3. Choose a random word from that list (see the previous project for `random.choice` function).\n",
    "4. While you are not choosing a dot, keep repeating steps 2 and 3.\n",
    "5. If you chose a dot, output the resulting sentence! "
   ]
  },
  {
   "cell_type": "code",
   "execution_count": null,
   "metadata": {},
   "outputs": [],
   "source": []
  },
  {
   "cell_type": "markdown",
   "metadata": {},
   "source": [
    "Run the function and enjoy your work. :)"
   ]
  }
 ],
 "metadata": {
  "kernelspec": {
   "display_name": "Python 3",
   "language": "python",
   "name": "python3"
  },
  "language_info": {
   "codemirror_mode": {
    "name": "ipython",
    "version": 3
   },
   "file_extension": ".py",
   "mimetype": "text/x-python",
   "name": "python",
   "nbconvert_exporter": "python",
   "pygments_lexer": "ipython3",
   "version": "3.7.3"
  }
 },
 "nbformat": 4,
 "nbformat_minor": 2
}
