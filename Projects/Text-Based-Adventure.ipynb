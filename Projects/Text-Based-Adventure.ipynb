{
 "cells": [
  {
   "cell_type": "markdown",
   "metadata": {},
   "source": [
    "# Text-Based Adventure\n",
    "\n",
    "It is the second week of your journey. After countless nights haunted with nightmares of being chased by homicidal SyntaxErrors, you are tired, hungry when the snack baskets are out of Doritos, and cold since you forgot a sweater today. You find yourself wandering into an empty classroom. Or so you think! \n",
    "\n",
    "A strange humanoid creeps out from behind meets you. They seem to be wearing a badge of some sort.\n",
    "\n",
    "\"Stop right there, criminal scum!\" said no one in this particular situation.\n",
    "Instead, the badged humanoid tells you to get to work. What do you do?\n",
    "\n",
    "\\>> Say \"ok\" and play games for 3 hours\n",
    "\n",
    "\\>> Buckle down and learn how to make $3 billion on the stock market\n",
    "\n",
    "\\>> Leave"
   ]
  },
  {
   "cell_type": "markdown",
   "metadata": {},
   "source": [
    "## Playing games in class is encouraged?!?!\n",
    "\n",
    "[Zork](http://textadventures.co.uk/games/play/5zyoqrsugeopel3ffhz_vq) is a classic Text Based Adventure that taps into the imagination by putting the player in a position to explore the area and solve puzzles and gather 'treasures'. This game makes the user type in what they want to do. \n",
    "\n",
    "[Choice of the Dragon](https://www.choiceofgames.com/dragon/) is one of the choice-based games offered by choiceofgames.com.  It provides players with an opportunity to explore a choice based game. Unlike Zork, this game gives you an explicit selection of choices to make and proceeds based on your choice of the options presented.\n",
    "\n",
    "Both of these games set a nice context for what can be achieved in terms of creating a text based game. If you like, play Zork and Choice of the Dragon for around 20 minutes each to get a true sense of the gameplay. Have fun and allow this to frame the idea of text based adventures for you and inspire ideas for your own game. \n",
    "\n",
    "If you already have ideas for your game and just want to get right into it, read on!\n"
   ]
  },
  {
   "cell_type": "markdown",
   "metadata": {},
   "source": [
    "## The game plan\n",
    "\n",
    "Read [this](https://levelskip.com/classic/Make-a-Text-Based-Game) guide on elements to include in your text-based game. This is mostly regarding interactions between the player and the game itself. Don't worry about the code there because it's not Python, but the elements you need to think about are the same.\n",
    "\n",
    "Since this project is totally open ended, the degree of complexity you want to assume with it are entirely up to you. This makes it a bit difficult to dictate what is expected from you for this task. \n",
    "\n",
    "At the very least, unless you have an amazing and convincing creative excuse try to include the following:\n",
    "- Player stats (if applicable)\n",
    "- Fully workable inventory (both for player and any merchants or other relevant NPCs)\n",
    "- Menu you can access at any time\n",
    "- For fun, maybe include achievements, like in Choice of the Dragon\n",
    "- Functions functions functions, don't repeat your code where you don't have to!\n",
    "- Bonus points if you code cool puzzles into your game (ex. the player needs to find a certain object or combination of objects to complete some task or unlock an interaction)\n",
    "\n",
    "That's really it. I'm leaving the rest up to you! If you have questions about how to make the game run in a way you want it to, ask any of us. The sky is really the limit here. Happy adventuring!"
   ]
  },
  {
   "cell_type": "code",
   "execution_count": null,
   "metadata": {},
   "outputs": [],
   "source": []
  }
 ],
 "metadata": {
  "kernelspec": {
   "display_name": "Python 3 (ipykernel)",
   "language": "python",
   "name": "python3"
  },
  "language_info": {
   "codemirror_mode": {
    "name": "ipython",
    "version": 3
   },
   "file_extension": ".py",
   "mimetype": "text/x-python",
   "name": "python",
   "nbconvert_exporter": "python",
   "pygments_lexer": "ipython3",
   "version": "3.9.7"
  }
 },
 "nbformat": 4,
 "nbformat_minor": 2
}
