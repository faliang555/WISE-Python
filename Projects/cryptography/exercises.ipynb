{
 "cells": [
  {
   "cell_type": "markdown",
   "metadata": {},
   "source": [
    "# Cryptography exercises"
   ]
  },
  {
   "cell_type": "markdown",
   "metadata": {},
   "source": [
    "## Rail fence cipher\n",
    "\n",
    "In the session, we looked at *substitution ciphers*, where one letter is substituted for another. Another type of cipher is a *transposition cipher*. This is where the letters in a message are switched around according to some pattern. Here, we shall look at the [rail fence cipher](https://en.wikipedia.org/wiki/Rail_fence_cipher). \n",
    "\n",
    "Here's the description from wikipedia:\n",
    "\n",
    "*In the rail fence cipher, the plain text is written downwards and diagonally on successive 'rails' of an imaginary fence, then moving up when the bottom rail is reached. When the top rail is reached, the message is written downwards again until the whole plaintext is written out. The message is then read off in rows. For example, if 3 'rails' and the message `WE ARE DISCOVERED. FLEE AT ONCE` is used, the cipherer writes out:*\n",
    "\n",
    "    W . . . E . . . C . . . R . . . L . . . T . . . E\n",
    "    . E . R . D . S . O . E . E . F . E . A . O . C .\n",
    "    . . A . . . I . . . V . . . D . . . E . . . N . .\n",
    "\n",
    "*Then reads off to get the ciphertext:*\n",
    "\n",
    "    WECRLTEERDSOEEFEAOCAIVDEN\n",
    "    \n",
    "Write functions that encrypt and decrypt messages using the rail fence cipher."
   ]
  },
  {
   "cell_type": "code",
   "execution_count": null,
   "metadata": {},
   "outputs": [],
   "source": []
  },
  {
   "cell_type": "markdown",
   "metadata": {},
   "source": [
    "## Let's crack some codes!\n",
    "\n",
    "In this directory, you'll find some `.txt` files which contain some encrypted messages. Each of the messages has been encrypted using one of the ciphers we saw during the session (and to make this task non-impossible we've indicated which cipher was used for each message). Your task is to try and decrypt these messages. To do this, feel free to reuse some of the code used during the session (e.g. to perform frequency analysis), or devise a method of your own (hint: some intelligent guesswork is likely to pay off here!).\n",
    "\n",
    "Solved all these problems and want to try some more? Try encrypting some messages of your own and send them to your classmates to see if they can decrypt them!\n",
    "\n",
    "Note: the last problem here is very difficult. Remember that it took three centuries for the Vigenère cipher to be broken, so it will be very impressive if you manage in an afternoon!"
   ]
  },
  {
   "cell_type": "code",
   "execution_count": null,
   "metadata": {},
   "outputs": [],
   "source": [
    "# Caesar shift cipher\n",
    "ciphertext = \"\"\n",
    "with (\"caesar.txt\", r) as cipherfile:\n",
    "    ciphertext = cipherfile.read()\n",
    "    \n",
    "# your solution goes here"
   ]
  },
  {
   "cell_type": "code",
   "execution_count": null,
   "metadata": {},
   "outputs": [],
   "source": [
    "# Random monoalphabetic cipher (this has been encrypted using a random \n",
    "# permutation of the letters in the alphabet)\n",
    "ciphertext = \"\"\n",
    "with (\"random_mono.txt\", r) as cipherfile:\n",
    "    ciphertext = cipherfile.read()\n",
    "    \n",
    "# your solution goes here"
   ]
  },
  {
   "cell_type": "code",
   "execution_count": null,
   "metadata": {},
   "outputs": [],
   "source": [
    "# Vigenère cipher\n",
    "ciphertext = \"\"\n",
    "with (\"vigenere.txt\", r) as cipherfile:\n",
    "    ciphertext = cipherfile.read()\n",
    "    \n",
    "# your solution goes here\n"
   ]
  }
 ],
 "metadata": {
  "kernelspec": {
   "display_name": "Python 3",
   "language": "python",
   "name": "python3"
  },
  "language_info": {
   "codemirror_mode": {
    "name": "ipython",
    "version": 3
   },
   "file_extension": ".py",
   "mimetype": "text/x-python",
   "name": "python",
   "nbconvert_exporter": "python",
   "pygments_lexer": "ipython3",
   "version": "3.6.7"
  }
 },
 "nbformat": 4,
 "nbformat_minor": 2
}
