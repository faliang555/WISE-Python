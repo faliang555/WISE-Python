{
 "cells": [
  {
   "cell_type": "markdown",
   "metadata": {},
   "source": [
    "# Numpy (Numerical Python) and Matplotlib "
   ]
  },
  {
   "cell_type": "markdown",
   "metadata": {},
   "source": [
    "From http://www.numpy.org/:\n",
    "\n",
    "NumPy is the fundamental package for doing scientific computing with Python. It contains among other things:\n",
    "\n",
    "- a powerful N-dimensional array object  \n",
    "- sophisticated (broadcasting) functions  \n",
    "- tools for integrating C/C++ and Fortran code  \n",
    "- useful linear algebra, Fourier transform, and random number capabilities\n",
    "\n",
    "Besides its obvious scientific uses, Numpy can also be used as an efficient multi-dimensional container of generic data. Arbitrary data-types can be defined. This allows NumPy to seamlessly and speedily integrate with a wide variety of databases.\n",
    "\n",
    "Numpy is the standard go-to for manipulating numerical data in python. It lets you create matrices, do matrix operations, pretty printing, and so much more. \n",
    "\n",
    "Once we've carried out some calculations on our data with Numpy, it's likely that we'll want to visualize this somehow. A widely used library for doing this is `matplotlib`:\n",
    "\n",
    "From http://matplotlib.org/index.html:\n",
    "\n",
    "> matplotlib is a python 2D plotting library which produces publication quality figures in a variety of hardcopy formats and interactive environments across platforms. matplotlib can be used in python scripts, the python and ipython shell (ala MATLAB®* or Mathematica®†), web application servers, and six graphical user interface toolkits.\n",
    "\n",
    "Lets get started by importing `numpy` and `matplotlib.pyplot`."
   ]
  },
  {
   "cell_type": "code",
   "execution_count": null,
   "metadata": {},
   "outputs": [],
   "source": [
    "# and import necessary libraries\n",
    "import numpy as np\n",
    "import matplotlib.pyplot as plt\n",
    "\n",
    "# Allows plots to display in the notebook\n",
    "%matplotlib inline"
   ]
  },
  {
   "cell_type": "markdown",
   "metadata": {},
   "source": [
    "Let's begin by using numpy to do some mathematics for us! First let's create a list of numbers between $[-2\\pi, 2\\pi]$, then calculate the sine of these numbers."
   ]
  },
  {
   "cell_type": "code",
   "execution_count": null,
   "metadata": {},
   "outputs": [],
   "source": [
    "# Make a list of 100 numbers between -2*pi and 2*pi\n",
    "x_values = np.linspace(-2 * np.pi, 2 * np.pi, 100)\n",
    "\n",
    "print(x_values)"
   ]
  },
  {
   "cell_type": "markdown",
   "metadata": {},
   "source": [
    "We've done a few things here: we used numpy's own `linspace` function to create the list of 100 numbers, starting from $-2\\pi$ and ending with $2\\pi$. We did this using numpy's own value of $\\pi$, `np.pi`.\n",
    "\n",
    "Now lets make a number list of numbers, equal to $y = \\sin(x)$."
   ]
  },
  {
   "cell_type": "code",
   "execution_count": null,
   "metadata": {
    "scrolled": true
   },
   "outputs": [],
   "source": [
    "y_values = np.sin(x_values)\n",
    "print(y_values)"
   ]
  },
  {
   "cell_type": "markdown",
   "metadata": {},
   "source": [
    "Here, we passed in our list of `x_values` to numpy's built in `np.sin` function. Numpy then calculated the sine of each number in this list, and returned us another list which we stored in the variable `y_values`. \n",
    "\n",
    "Great! Let's create a plot of these values so we can see what they look like."
   ]
  },
  {
   "cell_type": "code",
   "execution_count": null,
   "metadata": {},
   "outputs": [],
   "source": [
    "plt.plot(x_values, y_values)\n",
    "plt.show()"
   ]
  },
  {
   "cell_type": "markdown",
   "metadata": {},
   "source": [
    "So that worked, but let's make our plot a little more informative"
   ]
  },
  {
   "cell_type": "code",
   "execution_count": null,
   "metadata": {
    "scrolled": true
   },
   "outputs": [],
   "source": [
    "plt.title(\"Plot of $f(x) = sin(x)$\")     # put a title on the plot\n",
    "plt.xlabel(\"$x$\")                        # label the x axis\n",
    "plt.ylabel(\"$sin(x)$\")                   # label the y axis\n",
    "plt.plot(x_values, y_values)\n",
    "plt.show()"
   ]
  },
  {
   "cell_type": "markdown",
   "metadata": {},
   "source": [
    "That looks pretty good. What about adding in the axes?"
   ]
  },
  {
   "cell_type": "code",
   "execution_count": null,
   "metadata": {},
   "outputs": [],
   "source": [
    "plt.title(\"Plot of f(x) = sin(x)\")\n",
    "plt.xlabel(\"x\")\n",
    "plt.ylabel(\"sin(x)\")\n",
    "plt.plot(x_values, y_values)\n",
    "plt.axhline(y=0, color='k')\n",
    "plt.axvline(x=0, color='k')\n",
    "plt.show()"
   ]
  },
  {
   "cell_type": "markdown",
   "metadata": {},
   "source": [
    "What about plotting more than one function at a time? Easy!"
   ]
  },
  {
   "cell_type": "code",
   "execution_count": null,
   "metadata": {
    "scrolled": false
   },
   "outputs": [],
   "source": [
    "plt.title(\"Plot of f(x) = sin(x) and g(x) = cos(x)\")\n",
    "plt.xlabel(\"x\")\n",
    "plt.ylabel(\"sin(x)\")\n",
    "plt.plot(x_values, y_values)\n",
    "plt.plot(x_values, np.cos(x_values))\n",
    "plt.axhline(y=0, color='k')\n",
    "plt.axvline(x=0, color='k')\n",
    "plt.show()"
   ]
  },
  {
   "cell_type": "markdown",
   "metadata": {},
   "source": [
    "We can also turn the lines from solid to dashed quite easily."
   ]
  },
  {
   "cell_type": "code",
   "execution_count": null,
   "metadata": {
    "scrolled": true
   },
   "outputs": [],
   "source": [
    "plt.title(\"Plot of f(x) = sin(x) and g(x) = cos(x)\")\n",
    "plt.xlabel(\"x\")\n",
    "plt.ylabel(\"sin(x)\")\n",
    "plt.plot(x_values, y_values)\n",
    "plt.plot(x_values, np.cos(x_values), '--') # The '--' changes the line style to dashed\n",
    "plt.axhline(y=0, color='k')               # The color 'k' is black, if you wondered.\n",
    "plt.axvline(x=0, color='k')\n",
    "plt.show()"
   ]
  },
  {
   "cell_type": "markdown",
   "metadata": {},
   "source": [
    "What if we wanted to zoom in on only a certain section of our plot? We can do that by changing the *axis limits*."
   ]
  },
  {
   "cell_type": "code",
   "execution_count": null,
   "metadata": {},
   "outputs": [],
   "source": [
    "plt.title(\"Plot of f(x) = sin(x)\")\n",
    "plt.xlabel(\"x\")\n",
    "plt.ylabel(\"sin(x)\")\n",
    "plt.plot(x_values, y_values)\n",
    "plt.plot(x_values,np.cos(x_values), '--r') \n",
    "plt.axhline(y=0, color='k') \n",
    "plt.axvline(x=0, color='k')\n",
    "plt.xlim([-3,-2])            # change the limits of the x axis\n",
    "plt.ylim([-1.0,-0.5])        # change the limits of the y axis\n",
    "plt.show()"
   ]
  },
  {
   "cell_type": "markdown",
   "metadata": {},
   "source": [
    "Just for fun, lets try and create a crazy function and just see what it looks like."
   ]
  },
  {
   "cell_type": "code",
   "execution_count": null,
   "metadata": {},
   "outputs": [],
   "source": [
    "plt.title(\"Plot of my crazy function\")\n",
    "plt.xlabel(\"x\")\n",
    "plt.ylabel(\"crazy(x)\")\n",
    "plt.plot(x_values, 0.3 * np.cos(20.0 * np.pi * x_values) + np.sin(x_values))\n",
    "plt.axhline(y=0, color='k')\n",
    "plt.axvline(x=0, color='k')\n",
    "plt.show()"
   ]
  },
  {
   "cell_type": "markdown",
   "metadata": {},
   "source": [
    "What if I'm really proud of my work and want to save it forever so that I never lose it? Maybe print it out and put it on the fridge. We can do that too."
   ]
  },
  {
   "cell_type": "code",
   "execution_count": null,
   "metadata": {
    "scrolled": true
   },
   "outputs": [],
   "source": [
    "plt.title(\"Plot of my crazy function\")\n",
    "plt.xlabel(\"x\")\n",
    "plt.ylabel(\"crazy(x)\")\n",
    "plt.plot(x_values, 0.3 * np.cos(20.0 * np.pi * x_values) + np.sin(x_values))\n",
    "plt.axhline(y=0, color='k')\n",
    "plt.axvline(x=0, color='k')\n",
    "plt.savefig('crazy.png')    # This line saves the figure to the hard disk\n",
    "plt.show()"
   ]
  },
  {
   "cell_type": "markdown",
   "metadata": {},
   "source": [
    "Let's look at more of what numpy can do!\n",
    "\n",
    "Numpy can be used to create *arrays*. These are like Python's in-built lists, but much more powerful. To see this, let's try adding two lists then repeat this with two arrays. "
   ]
  },
  {
   "cell_type": "code",
   "execution_count": null,
   "metadata": {},
   "outputs": [],
   "source": [
    "a_list = [4, 6, 8]\n",
    "b_list = [1, 8, 1]\n",
    "\n",
    "a_list + b_list"
   ]
  },
  {
   "cell_type": "code",
   "execution_count": null,
   "metadata": {},
   "outputs": [],
   "source": [
    "a_array = np.array([4, 6, 8])\n",
    "b_array = np.array([1, 8, 1])\n",
    "\n",
    "a_array + b_array"
   ]
  },
  {
   "cell_type": "markdown",
   "metadata": {},
   "source": [
    "What happened here? When we added the two lists, Python simply *concatenated* the second list onto the end of the first one. However, when we added the two arrays, numpy added the two arrays together element-by-element. This is often extremely useful when manipulating data, and saves us from having to write loops to iterate over the elements individually. As a bonus, it also tends to be much more computationally efficient to do calculations this way in Python instead of looping over the arrays by hand (thanks to some clever numpy stuff). \n",
    "\n",
    "Numpy also makes it much easier to create and manipulate multi-dimensional arrays:"
   ]
  },
  {
   "cell_type": "code",
   "execution_count": null,
   "metadata": {},
   "outputs": [],
   "source": [
    "A = np.array([[1, 2, 1],\n",
    "              [4, 5, 6],\n",
    "              [7, 8, 9]])  # note: the extra lines I've added here are not necessary, but do make my code at lot more readable!\n",
    "\n",
    "print(A)"
   ]
  },
  {
   "cell_type": "markdown",
   "metadata": {},
   "source": [
    "`A` is a 2d array. We can find out its dimensions by printing out its `shape`, and find its total number of elements by printing its `size`:"
   ]
  },
  {
   "cell_type": "code",
   "execution_count": null,
   "metadata": {},
   "outputs": [],
   "source": [
    "print(A.shape)\n",
    "print(A.size)"
   ]
  },
  {
   "cell_type": "markdown",
   "metadata": {},
   "source": [
    "Let's create a new array by subtracting 5 from all the elements of A:"
   ]
  },
  {
   "cell_type": "code",
   "execution_count": null,
   "metadata": {},
   "outputs": [],
   "source": [
    "B = A - 5\n",
    "print(B)"
   ]
  },
  {
   "cell_type": "markdown",
   "metadata": {},
   "source": [
    "Just as with the 1d arrays, we can add, subtract, multiply, divide, etc these two arrays together, and numpy will carry out these calculations element-by-element:"
   ]
  },
  {
   "cell_type": "code",
   "execution_count": null,
   "metadata": {},
   "outputs": [],
   "source": [
    "A * B"
   ]
  },
  {
   "cell_type": "markdown",
   "metadata": {},
   "source": [
    "What about accessing elements of these 2d arrays? We can do this using a comma-separated list. The first index refers to the outermost dimension (here which of the lists in our list of arrays), then the second the inner dimension (here which element of that list). "
   ]
  },
  {
   "cell_type": "code",
   "execution_count": null,
   "metadata": {},
   "outputs": [],
   "source": [
    "print(A[0,1])  # 0th row, 1st column\n",
    "\n",
    "print(B[:, 2]) # this will print the entire 2nd column"
   ]
  },
  {
   "cell_type": "markdown",
   "metadata": {},
   "source": [
    "A couple of particularly useful commands are `zeros` and `ones`. These will create arrays full of 0s and 1s of the shape provided"
   ]
  },
  {
   "cell_type": "code",
   "execution_count": null,
   "metadata": {},
   "outputs": [],
   "source": [
    "np.zeros((3,3))   # a 2d 3 x 3 array of 0s"
   ]
  },
  {
   "cell_type": "code",
   "execution_count": null,
   "metadata": {},
   "outputs": [],
   "source": [
    "np.ones((2,2,2))  # a 3d 2 x 2 x 2 array of 1s"
   ]
  },
  {
   "cell_type": "markdown",
   "metadata": {},
   "source": [
    "## Linear algebra with numpy\n",
    "\n",
    "In your school math lessons, you may have come across *matrices* and *linear algebra*. Numpy arrays can be used for this as well!\n",
    "\n",
    "Firstly, let's create an identity matrix. \n",
    "\n",
    "$$\n",
    "I = \\begin{pmatrix} \n",
    "1 & 0 & 0 \\\\\n",
    "0 & 1 & 0 \\\\\n",
    "0 & 0 & 1\n",
    "\\end{pmatrix}\n",
    "$$"
   ]
  },
  {
   "cell_type": "code",
   "execution_count": null,
   "metadata": {},
   "outputs": [],
   "source": [
    "my_eye = np.eye(3)\n",
    "\n",
    "print(my_eye)"
   ]
  },
  {
   "cell_type": "markdown",
   "metadata": {},
   "source": [
    "Matrix matrix multiplication however, is *not* done with the asterisk (*)."
   ]
  },
  {
   "cell_type": "code",
   "execution_count": null,
   "metadata": {},
   "outputs": [],
   "source": [
    "A * my_eye"
   ]
  },
  {
   "cell_type": "markdown",
   "metadata": {},
   "source": [
    "As we've seen before, this just does element-wise multiplication. Each value inside `A` was multiplied by the corresponding value inside `my_eye`, which was not what we wanted here!\n",
    "\n",
    "To do true matrix-matrix multiplication, we need to use the `@` symbol."
   ]
  },
  {
   "cell_type": "code",
   "execution_count": null,
   "metadata": {},
   "outputs": [],
   "source": [
    "A @ my_eye"
   ]
  },
  {
   "cell_type": "markdown",
   "metadata": {},
   "source": [
    "We can also do some other matrix operations in numpy. Many of these are contained within the `linalg` sub-library. For example, we can find the inverse of a matrix using `np.linalg.inv`:"
   ]
  },
  {
   "cell_type": "code",
   "execution_count": null,
   "metadata": {},
   "outputs": [],
   "source": [
    "np.linalg.inv(A)"
   ]
  },
  {
   "cell_type": "markdown",
   "metadata": {},
   "source": [
    "Let's create a vector (essentially a 1d matrix). "
   ]
  },
  {
   "cell_type": "code",
   "execution_count": null,
   "metadata": {},
   "outputs": [],
   "source": [
    "b = np.array([1,3,5])"
   ]
  },
  {
   "cell_type": "markdown",
   "metadata": {},
   "source": [
    "We can then use another of these linear algebra functions to solve this system of equations (in matrix form):\n",
    "\n",
    "$$ A  x = b $$"
   ]
  },
  {
   "cell_type": "code",
   "execution_count": null,
   "metadata": {},
   "outputs": [],
   "source": [
    "np.linalg.solve(A,b)"
   ]
  },
  {
   "cell_type": "markdown",
   "metadata": {},
   "source": [
    "By luck, our linear system has a unique solution."
   ]
  },
  {
   "cell_type": "markdown",
   "metadata": {},
   "source": [
    "As a quick example to finish up, let's use numpy and matplotlib to create a *fractal* image of the Mandelbrot set (if you're unfamiliar with fractals, they are super cool - read more about them [here](https://simple.wikipedia.org/wiki/Fractal)). This code was pulled directly from numpy's tutorial page."
   ]
  },
  {
   "cell_type": "code",
   "execution_count": null,
   "metadata": {},
   "outputs": [],
   "source": [
    "import numpy as np\n",
    "import matplotlib.pyplot as plt\n",
    "def mandelbrot(h, w, maxit=20):\n",
    "    \"\"\"\n",
    "    Returns an image of the Mandelbrot fractal of size (h,w).\n",
    "    \"\"\"\n",
    "    y , x = np.ogrid[-1.4:1.4:h*1j, -2:0.8:w*1j]\n",
    "    c = x + y * 1j\n",
    "    z = c\n",
    "    divtime = maxit + np.zeros(z.shape, dtype=int)\n",
    "\n",
    "    for i in range(maxit):\n",
    "        z = z**2 + c\n",
    "        diverge = z * np.conj(z) > 2**2            \n",
    "        div_now = diverge & (divtime==maxit)  \n",
    "        divtime[div_now] = i                  \n",
    "        z[diverge] = 2                        \n",
    "    \n",
    "    return divtime\n",
    "\n",
    "plt.figure(figsize=(8,8))\n",
    "plt.imshow(mandelbrot(400,400))\n",
    "plt.show()"
   ]
  },
  {
   "cell_type": "code",
   "execution_count": null,
   "metadata": {},
   "outputs": [],
   "source": []
  }
 ],
 "metadata": {
  "kernelspec": {
   "display_name": "Python 3 (ipykernel)",
   "language": "python",
   "name": "python3"
  },
  "language_info": {
   "codemirror_mode": {
    "name": "ipython",
    "version": 3
   },
   "file_extension": ".py",
   "mimetype": "text/x-python",
   "name": "python",
   "nbconvert_exporter": "python",
   "pygments_lexer": "ipython3",
   "version": "3.9.7"
  }
 },
 "nbformat": 4,
 "nbformat_minor": 2
}
